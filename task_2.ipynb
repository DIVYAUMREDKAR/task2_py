{
 "cells": [
  {
   "cell_type": "markdown",
   "id": "b9c4480a-b34b-4779-a0a5-342b19860661",
   "metadata": {},
   "source": [
    "## TASK_2 STRING METHODS"
   ]
  },
  {
   "cell_type": "markdown",
   "id": "11b8cefa-c9b1-446e-842d-240166f08420",
   "metadata": {},
   "source": [
    "#### 1. capitalize() : \tConverts the first character of the word to upper case"
   ]
  },
  {
   "cell_type": "code",
   "execution_count": 114,
   "id": "edfa964b-e187-49e6-8f72-39445a1b538e",
   "metadata": {},
   "outputs": [
    {
     "name": "stdout",
     "output_type": "stream",
     "text": [
      "Divya umredkar\n"
     ]
    }
   ],
   "source": [
    "str1 = \"divya umredkar\"\n",
    "result = str1.capitalize()\n",
    "print(result)"
   ]
  },
  {
   "cell_type": "code",
   "execution_count": 116,
   "id": "96fd74fb-7a09-44c8-b5a8-ec88ccc399f8",
   "metadata": {},
   "outputs": [
    {
     "name": "stdout",
     "output_type": "stream",
     "text": [
      "Jupyter notebook\n"
     ]
    }
   ],
   "source": [
    "str2 = \"jupyter notebook\"\n",
    "result = str2.capitalize()\n",
    "print(result)"
   ]
  },
  {
   "cell_type": "markdown",
   "id": "2da18067-e4ce-4356-854a-05d946ed4b2f",
   "metadata": {},
   "source": [
    "#### 2. casefold() : Converts string into lower case"
   ]
  },
  {
   "cell_type": "code",
   "execution_count": 119,
   "id": "3c048ae1-6f4b-4861-9cfc-2c4a3c179609",
   "metadata": {},
   "outputs": [
    {
     "name": "stdout",
     "output_type": "stream",
     "text": [
      "data analytics\n"
     ]
    }
   ],
   "source": [
    "str1 = \"DATA ANALYTICS\"\n",
    "result = str1.casefold()\n",
    "print(result)"
   ]
  },
  {
   "cell_type": "code",
   "execution_count": 121,
   "id": "5b4a0aa1-bd1e-4047-ac40-a8dfed528d99",
   "metadata": {},
   "outputs": [
    {
     "name": "stdout",
     "output_type": "stream",
     "text": [
      "python\n"
     ]
    }
   ],
   "source": [
    "str2 = \"Python\"\n",
    "result = str2.casefold()\n",
    "print(result)"
   ]
  },
  {
   "cell_type": "markdown",
   "id": "01698371-0aa6-480c-a336-c14552d57606",
   "metadata": {},
   "source": [
    "#### 3. center() : Returns a centered string"
   ]
  },
  {
   "cell_type": "code",
   "execution_count": 124,
   "id": "b56abf2a-b4f1-486c-9396-30fa270c3922",
   "metadata": {},
   "outputs": [
    {
     "name": "stdout",
     "output_type": "stream",
     "text": [
      "'             TASK_2             '\n"
     ]
    }
   ],
   "source": [
    "str1 = \"TASK_2\"\n",
    "result = str1.center(32)  \n",
    "print(f\"'{result}'\")"
   ]
  },
  {
   "cell_type": "code",
   "execution_count": 126,
   "id": "6535a651-cffa-4aa6-9ec9-29d06260af62",
   "metadata": {},
   "outputs": [
    {
     "name": "stdout",
     "output_type": "stream",
     "text": [
      "'********DA9*********'\n"
     ]
    }
   ],
   "source": [
    "str2 = \"DA9\"\n",
    "result = str2.center(20, '*')\n",
    "print(f\"'{result}'\")"
   ]
  },
  {
   "cell_type": "markdown",
   "id": "1e8484b3-6b6e-49b1-bd4d-7ae420d0f6b4",
   "metadata": {},
   "source": [
    "#### 4. count() : Returns the number of times a specified value occurs in a string"
   ]
  },
  {
   "cell_type": "code",
   "execution_count": 129,
   "id": "91116878-1494-44eb-beb1-08244bed74cb",
   "metadata": {},
   "outputs": [
    {
     "name": "stdout",
     "output_type": "stream",
     "text": [
      "3\n"
     ]
    }
   ],
   "source": [
    "str1 = ['divya', 'riya', 'divya', 'riya', 'divya']\n",
    "result = str1.count('divya')\n",
    "print(result)"
   ]
  },
  {
   "cell_type": "code",
   "execution_count": 131,
   "id": "509c7260-fc48-42b8-872d-9c26a12c8881",
   "metadata": {},
   "outputs": [
    {
     "name": "stdout",
     "output_type": "stream",
     "text": [
      "3\n"
     ]
    }
   ],
   "source": [
    "str2 = \"my name is divya umredkar\"\n",
    "result = str2.count('a')\n",
    "print(result)"
   ]
  },
  {
   "cell_type": "markdown",
   "id": "6260f43c-e722-4997-9146-9972cb483650",
   "metadata": {},
   "source": [
    "#### 5. encode() : Returns an encoded version of the string"
   ]
  },
  {
   "cell_type": "code",
   "execution_count": 133,
   "id": "7e473922-2448-494a-b4bf-5df51d65be2c",
   "metadata": {},
   "outputs": [
    {
     "name": "stdout",
     "output_type": "stream",
     "text": [
      "b'ARC Insititue'\n"
     ]
    }
   ],
   "source": [
    "str1 = \"ARC Insititue\"\n",
    "result = str1.encode()\n",
    "print(result)"
   ]
  },
  {
   "cell_type": "code",
   "execution_count": 135,
   "id": "171678d4-da37-4097-a414-f8d2a6470308",
   "metadata": {},
   "outputs": [
    {
     "name": "stdout",
     "output_type": "stream",
     "text": [
      "b'python'\n"
     ]
    }
   ],
   "source": [
    "str2 = \"python\"\n",
    "result = str2.encode()\n",
    "print(result)"
   ]
  },
  {
   "cell_type": "markdown",
   "id": "d661042c-d002-485b-b259-3fc56c8a208b",
   "metadata": {},
   "source": [
    "#### 6. endswith() : Returns true if the string ends with the specified value"
   ]
  },
  {
   "cell_type": "code",
   "execution_count": 137,
   "id": "de8e16ac-11fd-45f9-80e8-021e3d38f489",
   "metadata": {},
   "outputs": [
    {
     "name": "stdout",
     "output_type": "stream",
     "text": [
      "False\n"
     ]
    }
   ],
   "source": [
    "str1 = \"Who are you\"\n",
    "result = str1.endswith(\"?\")\n",
    "print(result)"
   ]
  },
  {
   "cell_type": "code",
   "execution_count": 139,
   "id": "e1c6ecf8-acb5-40d6-b256-aaafc880e6a9",
   "metadata": {},
   "outputs": [
    {
     "name": "stdout",
     "output_type": "stream",
     "text": [
      "True\n"
     ]
    }
   ],
   "source": [
    "str2 = \"I love this song!\"\n",
    "result = str2.endswith(\"!\")\n",
    "print(result)"
   ]
  },
  {
   "cell_type": "markdown",
   "id": "ec0f527c-e76c-4569-af1a-83b19e0ede75",
   "metadata": {},
   "source": [
    "#### 7. expandtabs() : Sets the tab size to the specified number of whitespaces"
   ]
  },
  {
   "cell_type": "code",
   "execution_count": 142,
   "id": "92a974c5-a198-40dd-8f9c-65559fc69a0d",
   "metadata": {},
   "outputs": [
    {
     "name": "stdout",
     "output_type": "stream",
     "text": [
      "H E L L O\n"
     ]
    }
   ],
   "source": [
    "str1 = \"H\\tE\\tL\\tL\\tO\"\n",
    "result = str1.expandtabs(1)\n",
    "print(result)"
   ]
  },
  {
   "cell_type": "code",
   "execution_count": 144,
   "id": "f984b954-0251-409b-ba70-bd984f4253c4",
   "metadata": {},
   "outputs": [
    {
     "name": "stdout",
     "output_type": "stream",
     "text": [
      "p   y   t   h   o   n\n"
     ]
    }
   ],
   "source": [
    "str2 = \"p\\ty\\tt\\th\\to\\tn\"\n",
    "result = str2.expandtabs(4)\n",
    "print(result)"
   ]
  },
  {
   "cell_type": "markdown",
   "id": "a2edb6ea-189c-4f42-b787-32497328dd95",
   "metadata": {},
   "source": [
    "#### 8. find() : Searches the string for a specified value and returns the position of where it was found"
   ]
  },
  {
   "cell_type": "code",
   "execution_count": 147,
   "id": "7fa5e846-d714-495c-82f4-c831e2c4a869",
   "metadata": {},
   "outputs": [
    {
     "name": "stdout",
     "output_type": "stream",
     "text": [
      "23\n"
     ]
    }
   ],
   "source": [
    "str1 = \"What a beautiful sunset!\"\n",
    "result = str1.find('!')\n",
    "print(result)"
   ]
  },
  {
   "cell_type": "code",
   "execution_count": 149,
   "id": "d8517a7d-c47b-4295-8012-3f6e610f7f42",
   "metadata": {},
   "outputs": [
    {
     "name": "stdout",
     "output_type": "stream",
     "text": [
      "4\n"
     ]
    }
   ],
   "source": [
    "str1 = \"ARC DA-9\"\n",
    "result = str1.find('DA')\n",
    "print(result)"
   ]
  },
  {
   "cell_type": "markdown",
   "id": "cdad3d97-9f0d-4b5c-974e-51949f2ab9b1",
   "metadata": {},
   "source": [
    "#### 9. format() : Formats the specified value(s) and insert them inside the string's placeholder"
   ]
  },
  {
   "cell_type": "code",
   "execution_count": 152,
   "id": "a6e66d75-8b58-4ae7-a5df-25cde12a8eb0",
   "metadata": {},
   "outputs": [
    {
     "name": "stdout",
     "output_type": "stream",
     "text": [
      "What an idea!\n"
     ]
    }
   ],
   "source": [
    "str1 = \"What an {}\"\n",
    "result = str1.format(\"idea!\")\n",
    "print(result)"
   ]
  },
  {
   "cell_type": "code",
   "execution_count": 154,
   "id": "c108178b-0963-497d-b2f9-0c1835481eea",
   "metadata": {},
   "outputs": [
    {
     "name": "stdout",
     "output_type": "stream",
     "text": [
      "My age is 22\n"
     ]
    }
   ],
   "source": [
    "str2 = \"My age is {}\"\n",
    "result = str2.format(22)\n",
    "print(result)"
   ]
  },
  {
   "cell_type": "markdown",
   "id": "44bf34fb-cfb4-4499-afd9-e4feeeb3dc5d",
   "metadata": {},
   "source": [
    "#### 10. format_map() : Formats specified values in a string"
   ]
  },
  {
   "cell_type": "code",
   "execution_count": 157,
   "id": "3605ebb8-4c34-4d42-b0e8-1ac9270c5af6",
   "metadata": {},
   "outputs": [
    {
     "name": "stdout",
     "output_type": "stream",
     "text": [
      "Divya Umredkar\n"
     ]
    }
   ],
   "source": [
    "str1 = {'firstname':'Divya','lastname':'Umredkar'}\n",
    "result = '{firstname} {lastname}'.format_map(str1)\n",
    "print(result)"
   ]
  },
  {
   "cell_type": "code",
   "execution_count": 159,
   "id": "81a2fd5e-2687-440a-b7bd-c188687bb8aa",
   "metadata": {},
   "outputs": [
    {
     "name": "stdout",
     "output_type": "stream",
     "text": [
      "My name is Divya and I am 22 years old.\n"
     ]
    }
   ],
   "source": [
    "str2 = {'name':'Divya', 'age':'22'} \n",
    "result = \"My name is {name} and I am {age} years old.\".format_map(str2)\n",
    "print(result)"
   ]
  },
  {
   "cell_type": "markdown",
   "id": "0bbd9845-8911-4a09-b589-06ff67fec5ea",
   "metadata": {},
   "source": [
    "#### 11. index() :  Finds the first occurrence of the specified value"
   ]
  },
  {
   "cell_type": "code",
   "execution_count": 162,
   "id": "fe72f3fe-e388-4388-8709-e442ea9dc8a2",
   "metadata": {},
   "outputs": [
    {
     "name": "stdout",
     "output_type": "stream",
     "text": [
      "6\n"
     ]
    }
   ],
   "source": [
    "str1 = \"Wow, that was amazing!\"\n",
    "result = str1.index('h')\n",
    "print(result)"
   ]
  },
  {
   "cell_type": "code",
   "execution_count": 164,
   "id": "c0818d6a-bc4c-491a-a5bc-0b2ef26ae36a",
   "metadata": {},
   "outputs": [
    {
     "name": "stdout",
     "output_type": "stream",
     "text": [
      "15\n"
     ]
    }
   ],
   "source": [
    "str2 = \"Happy Birthday my friend\"\n",
    "result = str2.index('my')\n",
    "print(result)"
   ]
  },
  {
   "cell_type": "markdown",
   "id": "5f2fc2ca-8b89-4457-a87b-9bb734040bff",
   "metadata": {},
   "source": [
    "#### 12. isalnum() : Returns True if all characters in the string are alphanumeric"
   ]
  },
  {
   "cell_type": "code",
   "execution_count": 167,
   "id": "8eb4c091-d581-43a5-995d-3ad3d741bdbb",
   "metadata": {},
   "outputs": [
    {
     "name": "stdout",
     "output_type": "stream",
     "text": [
      "True\n"
     ]
    }
   ],
   "source": [
    "str1 = \"Divya04\"\n",
    "result = str1.isalnum()\n",
    "print(result)"
   ]
  },
  {
   "cell_type": "code",
   "execution_count": 169,
   "id": "7764dccc-2cd5-4c1e-9a2e-e804262d4ce3",
   "metadata": {},
   "outputs": [
    {
     "name": "stdout",
     "output_type": "stream",
     "text": [
      "False\n"
     ]
    }
   ],
   "source": [
    "str2 = \"abc1@gmail.com\"\n",
    "result = str2.isalnum()\n",
    "print(result)"
   ]
  },
  {
   "cell_type": "markdown",
   "id": "739a2405-4863-453a-bf20-fa066e1e9b87",
   "metadata": {},
   "source": [
    "#### 13. isalpha() : Returns True if all characters in the string are in the alphabet"
   ]
  },
  {
   "cell_type": "code",
   "execution_count": 172,
   "id": "a7d7bfa1-e916-4000-b423-17a1a2e35c47",
   "metadata": {},
   "outputs": [
    {
     "name": "stdout",
     "output_type": "stream",
     "text": [
      "False\n"
     ]
    }
   ],
   "source": [
    "str1 = \"DA9\"\n",
    "result = str1.isalpha()\n",
    "print(result)"
   ]
  },
  {
   "cell_type": "code",
   "execution_count": 174,
   "id": "3bc579d0-8090-4535-a026-5d88bc0080c4",
   "metadata": {},
   "outputs": [
    {
     "name": "stdout",
     "output_type": "stream",
     "text": [
      "True\n"
     ]
    }
   ],
   "source": [
    "str2 = \"Jupyter\"\n",
    "result = str2.isalpha()\n",
    "print(result)"
   ]
  },
  {
   "cell_type": "markdown",
   "id": "ab4bcc77-aecd-4551-bcfd-098c3b51bf0e",
   "metadata": {},
   "source": [
    "#### 14. isascii() : Returns True if all characters in the string are ascii characters"
   ]
  },
  {
   "cell_type": "code",
   "execution_count": 177,
   "id": "bde921ad-6fcd-413e-8f5d-6645c299045f",
   "metadata": {},
   "outputs": [
    {
     "name": "stdout",
     "output_type": "stream",
     "text": [
      "True\n"
     ]
    }
   ],
   "source": [
    "str1 = \"Power BI\"\n",
    "result = str1.isascii()\n",
    "print(result)"
   ]
  },
  {
   "cell_type": "code",
   "execution_count": 179,
   "id": "3f272b99-3c1c-4dec-9dce-bbe5c90f4f80",
   "metadata": {},
   "outputs": [
    {
     "name": "stdout",
     "output_type": "stream",
     "text": [
      "False\n"
     ]
    }
   ],
   "source": [
    "str2 = \"Task_2\"\n",
    "result = str2.isalpha()\n",
    "print(result)"
   ]
  },
  {
   "cell_type": "markdown",
   "id": "a7f25b10-8aa2-4593-a6df-a8393069b835",
   "metadata": {},
   "source": [
    "#### 15. isdecimal() : Returns True if all the characters are decimals (0-9)"
   ]
  },
  {
   "cell_type": "code",
   "execution_count": 182,
   "id": "85b3a7a4-0461-464e-b624-178c9fc05011",
   "metadata": {},
   "outputs": [
    {
     "name": "stdout",
     "output_type": "stream",
     "text": [
      "False\n"
     ]
    }
   ],
   "source": [
    "str1 = \"@1234\"\n",
    "result = str1.isdecimal()\n",
    "print(result)"
   ]
  },
  {
   "cell_type": "code",
   "execution_count": 184,
   "id": "68042f2b-463f-4173-92e7-d377d35350f3",
   "metadata": {},
   "outputs": [
    {
     "name": "stdout",
     "output_type": "stream",
     "text": [
      "True\n"
     ]
    }
   ],
   "source": [
    "str2 = \"123456789\"\n",
    "result = str2.isdecimal()\n",
    "print(result)"
   ]
  },
  {
   "cell_type": "markdown",
   "id": "fa5d3472-8753-4a88-ab4d-061d27b7582d",
   "metadata": {},
   "source": [
    "#### 16. isdigit() : Returns True if all the characters are digits, otherwise False"
   ]
  },
  {
   "cell_type": "code",
   "execution_count": 187,
   "id": "d871df36-d8c9-45f4-b4bc-f85a01af2562",
   "metadata": {},
   "outputs": [
    {
     "name": "stdout",
     "output_type": "stream",
     "text": [
      "False\n"
     ]
    }
   ],
   "source": [
    "str1 = \"2-6\"\n",
    "result = str1.isdigit()\n",
    "print(result)"
   ]
  },
  {
   "cell_type": "code",
   "execution_count": 189,
   "id": "ce539930-9004-409b-a8f2-a5b87f47489d",
   "metadata": {},
   "outputs": [
    {
     "name": "stdout",
     "output_type": "stream",
     "text": [
      "True\n"
     ]
    }
   ],
   "source": [
    "str2 = \"7517274\"\n",
    "result = str2.isdigit()\n",
    "print(result)"
   ]
  },
  {
   "cell_type": "markdown",
   "id": "7ba64819-a5ea-452e-abbb-fe48cbdd27ae",
   "metadata": {},
   "source": [
    "#### 17. isidentifier() : Returns True if the string is a valid identifier, otherwise False"
   ]
  },
  {
   "cell_type": "code",
   "execution_count": 192,
   "id": "493919fb-0509-49e6-910e-f934f3c599f6",
   "metadata": {},
   "outputs": [
    {
     "name": "stdout",
     "output_type": "stream",
     "text": [
      "True\n"
     ]
    }
   ],
   "source": [
    "str1 = \"one_1\"\n",
    "result = str1.isidentifier()\n",
    "print(result)"
   ]
  },
  {
   "cell_type": "code",
   "execution_count": 194,
   "id": "f275155a-13c6-4d7b-a5a5-54002b614d2f",
   "metadata": {},
   "outputs": [
    {
     "name": "stdout",
     "output_type": "stream",
     "text": [
      "False\n"
     ]
    }
   ],
   "source": [
    "str2 = \"Class Timing 6pm\"\n",
    "result = str2.isidentifier()\n",
    "print(result)"
   ]
  },
  {
   "cell_type": "markdown",
   "id": "fbcc3c4e-d4d7-4338-9e78-34101adfee8e",
   "metadata": {},
   "source": [
    "#### 18. islower() : Returns True if all characters in the string are lower case\n"
   ]
  },
  {
   "cell_type": "code",
   "execution_count": 197,
   "id": "5c947249-5b84-4d7e-970b-e7a6d45df46d",
   "metadata": {},
   "outputs": [
    {
     "name": "stdout",
     "output_type": "stream",
     "text": [
      "True\n"
     ]
    }
   ],
   "source": [
    "str1 = \"jupyter notebook\"\n",
    "result = str1.islower()\n",
    "print(result)"
   ]
  },
  {
   "cell_type": "code",
   "execution_count": 199,
   "id": "8392e5d6-3578-4e1e-896f-e749fa540741",
   "metadata": {},
   "outputs": [
    {
     "name": "stdout",
     "output_type": "stream",
     "text": [
      "False\n"
     ]
    }
   ],
   "source": [
    "str2 = \"jUpYter Notebook \"\n",
    "result = str2.islower()\n",
    "print(result)"
   ]
  },
  {
   "cell_type": "markdown",
   "id": "81654ba5-b00a-4261-b142-331edb36121c",
   "metadata": {},
   "source": [
    "#### 19. isnumeric() : Returns True if all the characters are numeric (0-9), otherwise False"
   ]
  },
  {
   "cell_type": "code",
   "execution_count": 202,
   "id": "5e16b558-e198-4f9a-bf54-55a261e5a16e",
   "metadata": {},
   "outputs": [
    {
     "name": "stdout",
     "output_type": "stream",
     "text": [
      "True\n"
     ]
    }
   ],
   "source": [
    "str1 = \"9876\"\n",
    "result = str1.isnumeric()\n",
    "print(result)"
   ]
  },
  {
   "cell_type": "code",
   "execution_count": 204,
   "id": "7f39da60-33b7-4d8f-979f-4c0dc422ae13",
   "metadata": {},
   "outputs": [
    {
     "name": "stdout",
     "output_type": "stream",
     "text": [
      "False\n"
     ]
    }
   ],
   "source": [
    "str2 = \"-23ab899\"\n",
    "result = str2.isnumeric()\n",
    "print(result)"
   ]
  },
  {
   "cell_type": "markdown",
   "id": "e6d50f95-c262-4d74-85d9-d44a6694367e",
   "metadata": {},
   "source": [
    "#### 20. isprintable() : Returns True if all the characters are printable, otherwise False"
   ]
  },
  {
   "cell_type": "code",
   "execution_count": 207,
   "id": "606784a3-08db-45cc-ac84-a14a91926421",
   "metadata": {},
   "outputs": [
    {
     "name": "stdout",
     "output_type": "stream",
     "text": [
      "True\n"
     ]
    }
   ],
   "source": [
    "str1 = \"How are you?\"\n",
    "result = str1.isprintable()\n",
    "print(result)"
   ]
  },
  {
   "cell_type": "code",
   "execution_count": 209,
   "id": "ef14627c-2862-462b-81cd-b0f91652e64d",
   "metadata": {},
   "outputs": [
    {
     "name": "stdout",
     "output_type": "stream",
     "text": [
      "False\n"
     ]
    }
   ],
   "source": [
    "str2 = \"Hello! \\n\"\n",
    "result = str2.isprintable()\n",
    "print(result)"
   ]
  },
  {
   "cell_type": "markdown",
   "id": "25a01a4a-6b4b-4817-894e-f7c6f93c11f4",
   "metadata": {},
   "source": [
    "#### 21. isspace() : Returns True if all the characters in a string are whitespaces, otherwise False"
   ]
  },
  {
   "cell_type": "code",
   "execution_count": 212,
   "id": "5ed6672c-4b97-4952-b048-a64f3cc2980c",
   "metadata": {},
   "outputs": [
    {
     "name": "stdout",
     "output_type": "stream",
     "text": [
      "True\n"
     ]
    }
   ],
   "source": [
    "str1 = \"     \"\n",
    "result = str1.isspace()\n",
    "print(result)"
   ]
  },
  {
   "cell_type": "code",
   "execution_count": 214,
   "id": "0a653bba-159c-4100-a7f7-21d0f19173a9",
   "metadata": {},
   "outputs": [
    {
     "name": "stdout",
     "output_type": "stream",
     "text": [
      "False\n"
     ]
    }
   ],
   "source": [
    "str2 = \"     D     \"\n",
    "result = str2.isspace()\n",
    "print(result)"
   ]
  },
  {
   "cell_type": "markdown",
   "id": "388fb2be-7ef7-4630-9dae-9ea480d00464",
   "metadata": {},
   "source": [
    "#### 22. istitle() : Returns True if all words in a text start with a upper case letter, AND the rest of the word are lower case letters, otherwise False"
   ]
  },
  {
   "cell_type": "code",
   "execution_count": 217,
   "id": "8a2d3fe9-29a6-41f0-a909-4ee7faa6ae26",
   "metadata": {},
   "outputs": [
    {
     "name": "stdout",
     "output_type": "stream",
     "text": [
      "True\n"
     ]
    }
   ],
   "source": [
    "str1 = \"Welcome To My World!\"\n",
    "result = str1.istitle()\n",
    "print(result)"
   ]
  },
  {
   "cell_type": "code",
   "execution_count": 219,
   "id": "0d37a968-2145-4d13-aa01-dc974089bf80",
   "metadata": {},
   "outputs": [
    {
     "name": "stdout",
     "output_type": "stream",
     "text": [
      "False\n"
     ]
    }
   ],
   "source": [
    "str2 = \"ARC institution\"\n",
    "result = str2.istitle()\n",
    "print(result)"
   ]
  },
  {
   "cell_type": "markdown",
   "id": "33cd64fd-8fb5-4e62-9ff7-e42f2b6441bb",
   "metadata": {},
   "source": [
    "#### 23. isupper() : Returns True if all the characters are in upper case, otherwise False"
   ]
  },
  {
   "cell_type": "code",
   "execution_count": 222,
   "id": "da6eaeed-2f10-4f85-87c2-8c2e955820b3",
   "metadata": {},
   "outputs": [
    {
     "name": "stdout",
     "output_type": "stream",
     "text": [
      "False\n"
     ]
    }
   ],
   "source": [
    "str1 = \"My Name is Divya\"\n",
    "result = str1.isupper()\n",
    "print(result)"
   ]
  },
  {
   "cell_type": "code",
   "execution_count": 224,
   "id": "cdd739a9-525d-46ba-ae44-63c1822b1933",
   "metadata": {},
   "outputs": [
    {
     "name": "stdout",
     "output_type": "stream",
     "text": [
      "True\n"
     ]
    }
   ],
   "source": [
    "str2 = \"MY NAME IS DIVYA\"\n",
    "result = str2.isupper()\n",
    "print(result)"
   ]
  },
  {
   "cell_type": "markdown",
   "id": "43c1040b-f935-4b38-be2d-c3ce740d9b40",
   "metadata": {},
   "source": [
    "#### 24. join() : Converts the elements of an iterable into a string"
   ]
  },
  {
   "cell_type": "code",
   "execution_count": 227,
   "id": "b2f1d91e-e5ff-4971-bfff-6e4d758ecc50",
   "metadata": {},
   "outputs": [
    {
     "name": "stdout",
     "output_type": "stream",
     "text": [
      "apple_mango_banana\n"
     ]
    }
   ],
   "source": [
    "str1 = (\"apple\",\"mango\", \"banana\")\n",
    "result = \"_\".join(str1)\n",
    "print(result)"
   ]
  },
  {
   "cell_type": "code",
   "execution_count": 229,
   "id": "a625ea2c-5e4d-491e-829b-19bfb50732e9",
   "metadata": {},
   "outputs": [
    {
     "name": "stdout",
     "output_type": "stream",
     "text": [
      "PYTHON\n"
     ]
    }
   ],
   "source": [
    "str2 = ['P', 'Y', 'T', 'H', 'O', 'N']\n",
    "result = \"\".join(str2)\n",
    "print(result)"
   ]
  },
  {
   "cell_type": "markdown",
   "id": "58f1ed6e-3db4-472c-9b1b-2d31c9d32cba",
   "metadata": {},
   "source": [
    "#### 25. ljust() : Returns a left justified version of the string"
   ]
  },
  {
   "cell_type": "code",
   "execution_count": 232,
   "id": "cc45c688-fba6-46d9-8284-8d642a76e21a",
   "metadata": {},
   "outputs": [
    {
     "name": "stdout",
     "output_type": "stream",
     "text": [
      "Arc   Data Analytics\n"
     ]
    }
   ],
   "source": [
    "str1 = 'Arc'\n",
    "result = str1.ljust(5)\n",
    "print(result, 'Data Analytics')"
   ]
  },
  {
   "cell_type": "code",
   "execution_count": 234,
   "id": "6ba5bb13-dd51-49f7-878a-01a33da31d90",
   "metadata": {},
   "outputs": [
    {
     "name": "stdout",
     "output_type": "stream",
     "text": [
      "Divya_\n"
     ]
    }
   ],
   "source": [
    "str2 = \"Divya\"\n",
    "result = str2.ljust(6,'_')\n",
    "print(result)"
   ]
  },
  {
   "cell_type": "markdown",
   "id": "b2c94d63-0e56-467a-b8c9-5e2e234ab89e",
   "metadata": {},
   "source": [
    "#### 26. lower() : Returns a string where all characters are lower case"
   ]
  },
  {
   "cell_type": "code",
   "execution_count": 237,
   "id": "fad56f23-1eac-4819-9183-ef85196c3203",
   "metadata": {},
   "outputs": [
    {
     "name": "stdout",
     "output_type": "stream",
     "text": [
      "jupyter notebook\n"
     ]
    }
   ],
   "source": [
    "str1 = \"Jupyter Notebook\"\n",
    "result = str1.lower()\n",
    "print(result)"
   ]
  },
  {
   "cell_type": "code",
   "execution_count": 239,
   "id": "dbea9a37-d5f9-43b6-a2c3-2d7445b9e2a5",
   "metadata": {},
   "outputs": [
    {
     "name": "stdout",
     "output_type": "stream",
     "text": [
      "python\n"
     ]
    }
   ],
   "source": [
    "str2 = \"PyThOn\"\n",
    "result = str2.lower()\n",
    "print(result)"
   ]
  },
  {
   "cell_type": "markdown",
   "id": "ac0004a8-8af2-49fb-9ba9-846440ef7062",
   "metadata": {},
   "source": [
    "#### 27. lstrip() : Removes any leading characters (space is the default leading character to remove)"
   ]
  },
  {
   "cell_type": "code",
   "execution_count": 242,
   "id": "9be64390-8664-49bf-bba7-23600fa8b024",
   "metadata": {},
   "outputs": [
    {
     "name": "stdout",
     "output_type": "stream",
     "text": [
      "mango is king of fruits\n"
     ]
    }
   ],
   "source": [
    "str1 = \"         mango\"\n",
    "result = str1.lstrip()\n",
    "print( result, \"is king of fruits\")"
   ]
  },
  {
   "cell_type": "code",
   "execution_count": 244,
   "id": "292a4fcd-5ac3-4392-bd7d-d98440bf7aef",
   "metadata": {},
   "outputs": [
    {
     "name": "stdout",
     "output_type": "stream",
     "text": [
      "PROGRAMMING\n"
     ]
    }
   ],
   "source": [
    "str2 = \"...--PROGRAMMING\"\n",
    "result = str2.lstrip(\".-\")\n",
    "print(result)"
   ]
  },
  {
   "cell_type": "markdown",
   "id": "777e3782-35f9-47af-a9d1-8b304ce2b4e3",
   "metadata": {},
   "source": [
    "#### 28. maketrans() : Returns a translation table to be used in translations\n"
   ]
  },
  {
   "cell_type": "code",
   "execution_count": 246,
   "id": "b175a8b8-2f87-4284-9cb3-fad2c6620a7e",
   "metadata": {},
   "outputs": [
    {
     "name": "stdout",
     "output_type": "stream",
     "text": [
      "123\n"
     ]
    }
   ],
   "source": [
    "str1 = str.maketrans(\"abc\", \"123\", \"xyz\")\n",
    "text = \"abcxyz\"\n",
    "result = text.translate(str1)\n",
    "print(result)  "
   ]
  },
  {
   "cell_type": "code",
   "execution_count": 248,
   "id": "650fb2f4-04c5-4f2d-a8b8-10a61a336358",
   "metadata": {},
   "outputs": [
    {
     "name": "stdout",
     "output_type": "stream",
     "text": [
      "{97: '1', 98: '2', 99: '3'}\n"
     ]
    }
   ],
   "source": [
    "result = str2.maketrans({\"a\": \"1\", \"b\": \"2\", \"c\": \"3\"})\n",
    "print(result)"
   ]
  },
  {
   "cell_type": "markdown",
   "id": "1b223065-9d0b-4827-8a80-f5da17827588",
   "metadata": {},
   "source": [
    "#### 29. partition() : Returns a tuple where the string is parted into three parts\r\n"
   ]
  },
  {
   "cell_type": "code",
   "execution_count": 251,
   "id": "537e30aa-4626-4a49-b016-ff62b8a29cbf",
   "metadata": {},
   "outputs": [
    {
     "name": "stdout",
     "output_type": "stream",
     "text": [
      "('Python ', 'SQL', ' Excel')\n"
     ]
    }
   ],
   "source": [
    "str1 = \"Python SQL Excel\"\n",
    "result = str1.partition(\"SQL\")\n",
    "print(result)"
   ]
  },
  {
   "cell_type": "code",
   "execution_count": 253,
   "id": "a3e65461-c40c-41fc-babe-0a94aed82aea",
   "metadata": {},
   "outputs": [
    {
     "name": "stdout",
     "output_type": "stream",
     "text": [
      "('My class ', 'starts at', ' 5:00')\n"
     ]
    }
   ],
   "source": [
    "str2 = \"My class starts at 5:00\"\n",
    "result = str2.partition(\"starts at\")\n",
    "print(result)"
   ]
  },
  {
   "cell_type": "markdown",
   "id": "0021217a-8de7-4e92-a024-b65b6235a7e9",
   "metadata": {},
   "source": [
    "#### 30. replace() : Returns a string where a specified value is replaced with a specified value\n"
   ]
  },
  {
   "cell_type": "code",
   "execution_count": 256,
   "id": "93c10404-7fc7-4e1f-adb1-68445f4d03ec",
   "metadata": {},
   "outputs": [
    {
     "name": "stdout",
     "output_type": "stream",
     "text": [
      "Python language\n"
     ]
    }
   ],
   "source": [
    "str1 = 'SQL language'\n",
    "result = str1.replace('SQL','Python')\n",
    "print(result)"
   ]
  },
  {
   "cell_type": "code",
   "execution_count": 258,
   "id": "d2272ede-a1a9-44e5-a28b-4cc7f969c301",
   "metadata": {},
   "outputs": [
    {
     "name": "stdout",
     "output_type": "stream",
     "text": [
      "jupytEr notEbook\n"
     ]
    }
   ],
   "source": [
    "str2 = \"jupyter notebook\"\n",
    "result = str2.replace(\"e\", \"E\")\n",
    "print(result)"
   ]
  },
  {
   "cell_type": "markdown",
   "id": "67dd818d-01fa-4549-b0d1-ba7cc25765c2",
   "metadata": {},
   "source": [
    "#### 31. rfind() : Searches the string for a specified value and returns the last position of where it was found"
   ]
  },
  {
   "cell_type": "code",
   "execution_count": 261,
   "id": "515e2a69-0b4e-484b-8345-69edfe84f1c1",
   "metadata": {},
   "outputs": [
    {
     "name": "stdout",
     "output_type": "stream",
     "text": [
      "12\n"
     ]
    }
   ],
   "source": [
    "str1 = \"Mi casa, su casa.\"\n",
    "result = str1.rfind(\"casa\")\n",
    "print(result)"
   ]
  },
  {
   "cell_type": "code",
   "execution_count": 263,
   "id": "16bf24c4-3346-4922-b239-22439c496d74",
   "metadata": {},
   "outputs": [
    {
     "name": "stdout",
     "output_type": "stream",
     "text": [
      "-1\n"
     ]
    }
   ],
   "source": [
    "str2 = \"My name is Divya\"\n",
    "result = str2.rfind(\"from\")\n",
    "print(result)"
   ]
  },
  {
   "cell_type": "markdown",
   "id": "1e6b6e9d-b7ee-4f57-b157-772a85a6abcf",
   "metadata": {},
   "source": [
    "#### 32. rindex() : Searches the string for a specified value and returns the last position of where it was found"
   ]
  },
  {
   "cell_type": "code",
   "execution_count": 266,
   "id": "d0d8edce-1ab1-4ea9-9509-9542d8d612ce",
   "metadata": {},
   "outputs": [
    {
     "name": "stdout",
     "output_type": "stream",
     "text": [
      "8\n"
     ]
    }
   ],
   "source": [
    "str1 = \"Hello, Python\"\n",
    "result = str1.rindex(\"y\")\n",
    "print(result)"
   ]
  },
  {
   "cell_type": "code",
   "execution_count": 274,
   "id": "2cc721c5-dd93-4015-a762-6a0f1caa181b",
   "metadata": {},
   "outputs": [
    {
     "name": "stdout",
     "output_type": "stream",
     "text": [
      "7\n"
     ]
    }
   ],
   "source": [
    "str2 = \"Python is fun, and learning Python is great!\"\n",
    "result = str2.rindex(\"is\", 0, 20)\n",
    "print(result) "
   ]
  },
  {
   "cell_type": "markdown",
   "id": "ee4e6419-2b70-4db6-96cf-84e891807c71",
   "metadata": {},
   "source": [
    "#### 33. rjust() : Returns a right justified version of the string\n"
   ]
  },
  {
   "cell_type": "code",
   "execution_count": 269,
   "id": "50db61cf-9f35-4b9d-a98a-a6fb09cf0fb8",
   "metadata": {},
   "outputs": [
    {
     "name": "stdout",
     "output_type": "stream",
     "text": [
      "***************DIVYA\n"
     ]
    }
   ],
   "source": [
    "str1 = \"DIVYA\"\n",
    "result = str1.rjust(20,\"*\")\n",
    "print(result)"
   ]
  },
  {
   "cell_type": "code",
   "execution_count": 271,
   "id": "57a79a06-1e47-43c4-9bd5-0de4d58489e6",
   "metadata": {},
   "outputs": [
    {
     "name": "stdout",
     "output_type": "stream",
     "text": [
      "0012\n"
     ]
    }
   ],
   "source": [
    "str2 = \"12\"\n",
    "result = str2.rjust(4, '0')\n",
    "print(result)"
   ]
  },
  {
   "cell_type": "markdown",
   "id": "99053332-5974-4be1-8cbb-421b3dcd0b9c",
   "metadata": {},
   "source": [
    "#### 34. rpartition() : Returns a tuple where the string is parted into three parts\n"
   ]
  },
  {
   "cell_type": "code",
   "execution_count": 278,
   "id": "66c85c44-5d6f-4ef9-b900-f6359f1d9cdf",
   "metadata": {},
   "outputs": [
    {
     "name": "stdout",
     "output_type": "stream",
     "text": [
      "('Welcome to ', 'ARC', ' Institute')\n"
     ]
    }
   ],
   "source": [
    "str1 = \"Welcome to ARC Institute\"\n",
    "result = str1.rpartition(\"ARC\")\n",
    "print(result)"
   ]
  },
  {
   "cell_type": "code",
   "execution_count": 276,
   "id": "fc8287b5-324e-4486-a3a9-43bd975e03d1",
   "metadata": {},
   "outputs": [
    {
     "name": "stdout",
     "output_type": "stream",
     "text": [
      "('My name is divya, ', 'divya', ' live in nagpur')\n"
     ]
    }
   ],
   "source": [
    "str2 = \"My name is divya, divya live in nagpur\"\n",
    "result = str2.rpartition(\"divya\")\n",
    "print(result)  "
   ]
  },
  {
   "cell_type": "markdown",
   "id": "a451f498-e6cb-4e40-a902-adb2f03713b3",
   "metadata": {},
   "source": [
    "#### 35. rsplit() : Splits the string at the specified separator, and returns a list\n"
   ]
  },
  {
   "cell_type": "code",
   "execution_count": 281,
   "id": "0a3dbcab-f468-414f-a516-a68af1122b87",
   "metadata": {},
   "outputs": [
    {
     "name": "stdout",
     "output_type": "stream",
     "text": [
      "['Mumbai', 'Pune', 'Nagpur', 'Delhi']\n"
     ]
    }
   ],
   "source": [
    "str1 = \"Mumbai,Pune,Nagpur,Delhi\"\n",
    "result = str1.rsplit(\",\")\n",
    "print(result)"
   ]
  },
  {
   "cell_type": "code",
   "execution_count": 283,
   "id": "3361d1d1-fc06-473f-87ef-de8090f0e246",
   "metadata": {},
   "outputs": [
    {
     "name": "stdout",
     "output_type": "stream",
     "text": [
      "['divya,riya', 'aarti']\n"
     ]
    }
   ],
   "source": [
    "str2 = \"divya,riya,aarti\"\n",
    "result = str2.rsplit(\",\",1)\n",
    "print(result)"
   ]
  },
  {
   "cell_type": "markdown",
   "id": "2b77ad1c-69c6-47ca-a23d-49c39791caeb",
   "metadata": {},
   "source": [
    "#### 36. rstrip() : Returns a right trim version of the string\n"
   ]
  },
  {
   "cell_type": "code",
   "execution_count": 291,
   "id": "c6cea2a9-7763-4ead-a99e-156518a0ff0e",
   "metadata": {},
   "outputs": [
    {
     "name": "stdout",
     "output_type": "stream",
     "text": [
      "'         ARC'\n"
     ]
    }
   ],
   "source": [
    "str1 = \"         ARC            \"\n",
    "result = str1.rstrip()\n",
    "print(f\"'{result}'\")"
   ]
  },
  {
   "cell_type": "code",
   "execution_count": 295,
   "id": "d23b7105-ec20-4d46-82c2-a22db2e1d0b8",
   "metadata": {},
   "outputs": [
    {
     "name": "stdout",
     "output_type": "stream",
     "text": [
      "_____******DA9\n"
     ]
    }
   ],
   "source": [
    "str2 = \"_____******DA9******_____\"\n",
    "result = str2.rstrip(\"_*\")\n",
    "print(result)"
   ]
  },
  {
   "cell_type": "markdown",
   "id": "337cb905-578e-4eef-9247-3db1db53da08",
   "metadata": {},
   "source": [
    "#### 37. split() : Splits the string at the specified separator, and returns a list\n"
   ]
  },
  {
   "cell_type": "code",
   "execution_count": 302,
   "id": "4439b215-d04e-439d-825a-da1a0ade4e06",
   "metadata": {},
   "outputs": [
    {
     "name": "stdout",
     "output_type": "stream",
     "text": [
      "['ARC', 'Institution', 'data', 'analytic', 'DA9']\n"
     ]
    }
   ],
   "source": [
    "str1 = \"ARC Institution data analytic DA9\"\n",
    "result = str1.split()\n",
    "print(result)"
   ]
  },
  {
   "cell_type": "code",
   "execution_count": 304,
   "id": "53fdafdf-8091-4366-9655-28ede2d476ef",
   "metadata": {},
   "outputs": [
    {
     "name": "stdout",
     "output_type": "stream",
     "text": [
      "['Excel', 'SQL', 'python jupyter notebook']\n"
     ]
    }
   ],
   "source": [
    "str2 = \"Excel SQL python jupyter notebook\"\n",
    "result = str2.split(\" \", 2)\n",
    "print(result)"
   ]
  },
  {
   "cell_type": "markdown",
   "id": "5dc25ff0-6f49-4b67-a057-c1b25af37b41",
   "metadata": {},
   "source": [
    "#### 38. splitlines() : Splits the string at line breaks and returns a list\n"
   ]
  },
  {
   "cell_type": "code",
   "execution_count": 309,
   "id": "0185b29b-6ac3-4b6c-a58f-fea6004b963d",
   "metadata": {},
   "outputs": [
    {
     "name": "stdout",
     "output_type": "stream",
     "text": [
      "['Python', 'jupyter notebook']\n"
     ]
    }
   ],
   "source": [
    "str1 = \"Python\\njupyter notebook\"\n",
    "result = str1.splitlines()\n",
    "print(result)"
   ]
  },
  {
   "cell_type": "code",
   "execution_count": 317,
   "id": "260ed40c-f8cb-4871-8f94-8447fdd4b866",
   "metadata": {},
   "outputs": [
    {
     "name": "stdout",
     "output_type": "stream",
     "text": [
      "['apple\\n', 'banana\\n', 'mango']\n"
     ]
    }
   ],
   "source": [
    "str2 = \"apple\\nbanana\\nmango\"\n",
    "result = str2.splitlines(True)\n",
    "print(result)"
   ]
  },
  {
   "cell_type": "markdown",
   "id": "9278c7e1-267b-4836-80c6-8cb11b5b1a12",
   "metadata": {},
   "source": [
    "#### 39. startswith() : Returns true if the string starts with the specified value\n"
   ]
  },
  {
   "cell_type": "code",
   "execution_count": 322,
   "id": "56521447-c6e0-40aa-a8e6-9ca2f1a40722",
   "metadata": {},
   "outputs": [
    {
     "name": "stdout",
     "output_type": "stream",
     "text": [
      "True\n"
     ]
    }
   ],
   "source": [
    "str1 = \"Class timming 5:00\"\n",
    "result = str1.startswith(\"Class\")\n",
    "print(result)"
   ]
  },
  {
   "cell_type": "code",
   "execution_count": 324,
   "id": "8166191b-ec7e-4ad6-8129-145db9e9ee6a",
   "metadata": {},
   "outputs": [
    {
     "name": "stdout",
     "output_type": "stream",
     "text": [
      "False\n"
     ]
    }
   ],
   "source": [
    "str2 = \"Class timming 5:00\"\n",
    "result = str2.startswith(\"College\")\n",
    "print(result)"
   ]
  },
  {
   "cell_type": "markdown",
   "id": "686e9b16-2383-48b8-a0d3-82736610bbb6",
   "metadata": {},
   "source": [
    "#### 40. swapcase() : Swaps cases, lower case becomes upper case and vice versa\n"
   ]
  },
  {
   "cell_type": "code",
   "execution_count": 327,
   "id": "d430924a-3f5c-479a-8f8d-cf316fff5b6e",
   "metadata": {},
   "outputs": [
    {
     "name": "stdout",
     "output_type": "stream",
     "text": [
      "arc iNSTITUTION da9\n"
     ]
    }
   ],
   "source": [
    "str1 = \"ARC Institution DA9\"\n",
    "result = str1.swapcase()\n",
    "print(result)"
   ]
  },
  {
   "cell_type": "code",
   "execution_count": 329,
   "id": "bc154a52-92c8-4837-97d3-d1c5898ac66b",
   "metadata": {},
   "outputs": [
    {
     "name": "stdout",
     "output_type": "stream",
     "text": [
      "dIVYA uMREDKAR\n"
     ]
    }
   ],
   "source": [
    "str2 = \"Divya Umredkar\"\n",
    "result = str2.swapcase()\n",
    "print(result)"
   ]
  },
  {
   "cell_type": "markdown",
   "id": "0036f3b0-44c7-4ee3-8e54-7fead98a9f91",
   "metadata": {},
   "source": [
    "#### 41. title() : Converts the first character of each word to upper case\n"
   ]
  },
  {
   "cell_type": "code",
   "execution_count": 338,
   "id": "a6fb03bf-4e3f-4305-a372-e4d9b3a780a9",
   "metadata": {},
   "outputs": [
    {
     "name": "stdout",
     "output_type": "stream",
     "text": [
      "My Name Is Divya Umredkar\n"
     ]
    }
   ],
   "source": [
    "str1 = \"my name iS divya umREDKAR\"\n",
    "result = str1.title()\n",
    "print(result)"
   ]
  },
  {
   "cell_type": "code",
   "execution_count": 340,
   "id": "c3dc0da6-af59-48a8-bd10-0a757b7f4698",
   "metadata": {},
   "outputs": [
    {
     "name": "stdout",
     "output_type": "stream",
     "text": [
      "Jupyter Notebook\n"
     ]
    }
   ],
   "source": [
    "str2 = \"jupyter notEBook\"\n",
    "result = str2.title()\n",
    "print(result)"
   ]
  },
  {
   "cell_type": "markdown",
   "id": "0094ae8c-b0fb-47a9-a7f3-dba914a13461",
   "metadata": {},
   "source": [
    "#### 42. translate() : Returns a translated string\n"
   ]
  },
  {
   "cell_type": "code",
   "execution_count": 349,
   "id": "0cceb81d-0a8c-481b-a139-aa08e925610f",
   "metadata": {},
   "outputs": [
    {
     "name": "stdout",
     "output_type": "stream",
     "text": [
      "My Mrother\n"
     ]
    }
   ],
   "source": [
    "str1 = \"My Brother\"\n",
    "result = str.maketrans(\"B\", \"M\")\n",
    "print(str1.translate(result))"
   ]
  },
  {
   "cell_type": "markdown",
   "id": "93b23418-9b28-49f6-bd18-44edd9b1b4bb",
   "metadata": {},
   "source": [
    "#### 43. upper() : Converts a string into upper case\n"
   ]
  },
  {
   "cell_type": "code",
   "execution_count": 352,
   "id": "e44387a7-a5ef-40af-9ea7-a2f5806fab1b",
   "metadata": {},
   "outputs": [
    {
     "name": "stdout",
     "output_type": "stream",
     "text": [
      "DIVYA UMREDKAR\n"
     ]
    }
   ],
   "source": [
    "str1 = \"divya umredkar\"\n",
    "result = str1.upper()\n",
    "print(result)"
   ]
  },
  {
   "cell_type": "code",
   "execution_count": 354,
   "id": "b6909e70-1cf6-40b0-8365-5cd9d13072b3",
   "metadata": {},
   "outputs": [
    {
     "name": "stdout",
     "output_type": "stream",
     "text": [
      "ARC DA9\n"
     ]
    }
   ],
   "source": [
    "str2 = \"arc da9\"\n",
    "result = str2.upper()\n",
    "print(result)"
   ]
  },
  {
   "cell_type": "markdown",
   "id": "a6d9250d-bf53-471d-b03a-dde7d3a987f6",
   "metadata": {},
   "source": [
    "#### 44. zfill() : Fills the string with a specified number of 0 values at the beginning\n"
   ]
  },
  {
   "cell_type": "code",
   "execution_count": 362,
   "id": "284d7262-5a0b-42d7-810e-69ff3e2dc0ce",
   "metadata": {},
   "outputs": [
    {
     "name": "stdout",
     "output_type": "stream",
     "text": [
      "-000000050\n"
     ]
    }
   ],
   "source": [
    "str1 = \"-50\"\n",
    "result = str1.zfill(10)\n",
    "print(result)"
   ]
  },
  {
   "cell_type": "code",
   "execution_count": 364,
   "id": "ac8e9932-4549-4f5b-864b-e474c9700f37",
   "metadata": {},
   "outputs": [
    {
     "name": "stdout",
     "output_type": "stream",
     "text": [
      "00000DA9\n"
     ]
    }
   ],
   "source": [
    "str2 = \"DA9\"\n",
    "result = str2.zfill(8)\n",
    "print(result)"
   ]
  },
  {
   "cell_type": "code",
   "execution_count": null,
   "id": "71c5a102-95db-41b7-8328-f32923fb4019",
   "metadata": {},
   "outputs": [],
   "source": []
  }
 ],
 "metadata": {
  "kernelspec": {
   "display_name": "Python 3 (ipykernel)",
   "language": "python",
   "name": "python3"
  },
  "language_info": {
   "codemirror_mode": {
    "name": "ipython",
    "version": 3
   },
   "file_extension": ".py",
   "mimetype": "text/x-python",
   "name": "python",
   "nbconvert_exporter": "python",
   "pygments_lexer": "ipython3",
   "version": "3.12.4"
  }
 },
 "nbformat": 4,
 "nbformat_minor": 5
}
